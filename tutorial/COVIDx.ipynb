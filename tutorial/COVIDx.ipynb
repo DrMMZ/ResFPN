{
 "cells": [
  {
   "cell_type": "markdown",
   "metadata": {},
   "source": [
    "## ResFPN Classifier Tutorial - COVIDx"
   ]
  },
  {
   "cell_type": "markdown",
   "metadata": {},
   "source": [
    "by *Ming Ming Zhang*"
   ]
  },
  {
   "cell_type": "code",
   "execution_count": 1,
   "metadata": {},
   "outputs": [],
   "source": [
    "import os, sys\n",
    "\n",
    "# python files directory\n",
    "PY_DIR = #'directory/to/python/files'\n",
    "sys.path.append(PY_DIR)\n",
    "\n",
    "import covidx, resnet_fpn"
   ]
  },
  {
   "cell_type": "markdown",
   "metadata": {},
   "source": [
    "### Preprocess Data"
   ]
  },
  {
   "cell_type": "code",
   "execution_count": 2,
   "metadata": {},
   "outputs": [
    {
     "name": "stdout",
     "output_type": "stream",
     "text": [
      "Processed train 0.7 seconds\n",
      "Processed test 0.1 seconds\n"
     ]
    }
   ],
   "source": [
    "dataset_dir = #'directory/to/covidx'\n",
    "\n",
    "covidx.move_imgs(dataset_dir, subset='train')\n",
    "covidx.move_imgs(dataset_dir, subset='test')"
   ]
  },
  {
   "cell_type": "code",
   "execution_count": 3,
   "metadata": {
    "scrolled": true
   },
   "outputs": [],
   "source": [
    "train_dir = os.path.join(dataset_dir, 'train')\n",
    "test_dir = os.path.join(dataset_dir, 'test')\n",
    "\n",
    "# for the first time use, set convert_rgb to True\n",
    "convert_rgb = False\n",
    "if convert_rgb:\n",
    "    covidx.covert_rgb_dir(train_dir)\n",
    "    covidx.covert_rgb_dir(test_dir)"
   ]
  },
  {
   "cell_type": "code",
   "execution_count": 4,
   "metadata": {},
   "outputs": [
    {
     "name": "stdout",
     "output_type": "stream",
     "text": [
      "Found 13917 files belonging to 3 classes.\n",
      "Using 11134 files for training.\n",
      "Found 13917 files belonging to 3 classes.\n",
      "Using 2783 files for validation.\n",
      "Found 1579 files belonging to 3 classes.\n"
     ]
    }
   ],
   "source": [
    "batch_size = 32\n",
    "image_size = (256,256)\n",
    "train_ds, val_ds, test_ds, classes = covidx.load_data(\n",
    "    dataset_dir, batch_size, image_size)"
   ]
  },
  {
   "cell_type": "code",
   "execution_count": 5,
   "metadata": {},
   "outputs": [
    {
     "name": "stdout",
     "output_type": "stream",
     "text": [
      "COVID-19: 489, ratio=0.0351\n",
      "normal: 7965, ratio=0.5723\n",
      "pneumonia: 5463, ratio=0.3925\n"
     ]
    }
   ],
   "source": [
    "total = 13917\n",
    "class_weight = []\n",
    "for class_name in classes:\n",
    "    imgs_list = os.listdir(os.path.join(train_dir, class_name))\n",
    "    num_imgs = len(imgs_list)\n",
    "    weight = (1/num_imgs)*(total/len(classes))\n",
    "    class_weight.append(weight)\n",
    "    print('%s: %d, ratio=%.4f' \\\n",
    "          % (\n",
    "        class_name, \n",
    "        num_imgs, \n",
    "        num_imgs/total\n",
    "    ))"
   ]
  },
  {
   "cell_type": "code",
   "execution_count": 6,
   "metadata": {},
   "outputs": [
    {
     "name": "stdout",
     "output_type": "stream",
     "text": [
      "COVID-19: weight=0.868882\n",
      "normal: weight=0.053344\n",
      "pneumonia: weight=0.077775\n"
     ]
    }
   ],
   "source": [
    "class_weight = [x/sum(class_weight) for x in class_weight]\n",
    "for i in range(len(classes)):\n",
    "    print('%s: weight=%f' % (classes[i], class_weight[i]))"
   ]
  },
  {
   "cell_type": "markdown",
   "metadata": {},
   "source": [
    "### ResFPN Classifiers"
   ]
  },
  {
   "cell_type": "code",
   "execution_count": 7,
   "metadata": {},
   "outputs": [],
   "source": [
    "image_shape = (256,256,3)\n",
    "filepath = #'path\\to\\pretrained_resnet_weights.h5'"
   ]
  },
  {
   "cell_type": "markdown",
   "metadata": {},
   "source": [
    "#### Cross-entropy Loss"
   ]
  },
  {
   "cell_type": "code",
   "execution_count": 26,
   "metadata": {
    "scrolled": true
   },
   "outputs": [
    {
     "name": "stdout",
     "output_type": "stream",
     "text": [
      "Epoch 1/5\n",
      "WARNING:tensorflow:AutoGraph could not transform <function Model.make_train_function.<locals>.train_function at 0x000001E1C93FFE58> and will run it as-is.\n",
      "Please report this to the TensorFlow team. When filing the bug, set the verbosity to 10 (on Linux, `export AUTOGRAPH_VERBOSITY=10`) and attach the full output.\n",
      "Cause: 'arguments' object has no attribute 'posonlyargs'\n",
      "To silence this warning, decorate the function with @tf.autograph.experimental.do_not_convert\n",
      "WARNING: AutoGraph could not transform <function Model.make_train_function.<locals>.train_function at 0x000001E1C93FFE58> and will run it as-is.\n",
      "Please report this to the TensorFlow team. When filing the bug, set the verbosity to 10 (on Linux, `export AUTOGRAPH_VERBOSITY=10`) and attach the full output.\n",
      "Cause: 'arguments' object has no attribute 'posonlyargs'\n",
      "To silence this warning, decorate the function with @tf.autograph.experimental.do_not_convert\n",
      "348/348 [==============================] - ETA: 0s - loss: 12.7869 - dense_resnet_loss: 0.3960 - dense_fpn_2_loss: 0.5644 - dense_fpn_3_loss: 0.5110 - dense_fpn_4_loss: 0.4451 - dense_fpn_5_loss: 0.4337 - dense_resnet_accuracy: 0.8585 - dense_fpn_2_accuracy: 0.8234 - dense_fpn_3_accuracy: 0.8360 - dense_fpn_4_accuracy: 0.8517 - dense_fpn_5_accuracy: 0.8502WARNING:tensorflow:AutoGraph could not transform <function Model.make_test_function.<locals>.test_function at 0x000001E0B8B631F8> and will run it as-is.\n",
      "Please report this to the TensorFlow team. When filing the bug, set the verbosity to 10 (on Linux, `export AUTOGRAPH_VERBOSITY=10`) and attach the full output.\n",
      "Cause: 'arguments' object has no attribute 'posonlyargs'\n",
      "To silence this warning, decorate the function with @tf.autograph.experimental.do_not_convert\n",
      "WARNING: AutoGraph could not transform <function Model.make_test_function.<locals>.test_function at 0x000001E0B8B631F8> and will run it as-is.\n",
      "Please report this to the TensorFlow team. When filing the bug, set the verbosity to 10 (on Linux, `export AUTOGRAPH_VERBOSITY=10`) and attach the full output.\n",
      "Cause: 'arguments' object has no attribute 'posonlyargs'\n",
      "To silence this warning, decorate the function with @tf.autograph.experimental.do_not_convert\n",
      "348/348 [==============================] - 115s 330ms/step - loss: 12.7869 - dense_resnet_loss: 0.3960 - dense_fpn_2_loss: 0.5644 - dense_fpn_3_loss: 0.5110 - dense_fpn_4_loss: 0.4451 - dense_fpn_5_loss: 0.4337 - dense_resnet_accuracy: 0.8585 - dense_fpn_2_accuracy: 0.8234 - dense_fpn_3_accuracy: 0.8360 - dense_fpn_4_accuracy: 0.8517 - dense_fpn_5_accuracy: 0.8502 - val_loss: 12.0335 - val_dense_resnet_loss: 0.3067 - val_dense_fpn_2_loss: 0.3517 - val_dense_fpn_3_loss: 0.3060 - val_dense_fpn_4_loss: 0.3266 - val_dense_fpn_5_loss: 0.3060 - val_dense_resnet_accuracy: 0.8868 - val_dense_fpn_2_accuracy: 0.8760 - val_dense_fpn_3_accuracy: 0.8969 - val_dense_fpn_4_accuracy: 0.8861 - val_dense_fpn_5_accuracy: 0.8843\n",
      "Epoch 2/5\n",
      "348/348 [==============================] - 114s 328ms/step - loss: 11.9116 - dense_resnet_loss: 0.2607 - dense_fpn_2_loss: 0.3397 - dense_fpn_3_loss: 0.3118 - dense_fpn_4_loss: 0.2917 - dense_fpn_5_loss: 0.2711 - dense_resnet_accuracy: 0.9069 - dense_fpn_2_accuracy: 0.8831 - dense_fpn_3_accuracy: 0.8929 - dense_fpn_4_accuracy: 0.8990 - dense_fpn_5_accuracy: 0.9061 - val_loss: 11.7582 - val_dense_resnet_loss: 0.2303 - val_dense_fpn_2_loss: 0.3136 - val_dense_fpn_3_loss: 0.2945 - val_dense_fpn_4_loss: 0.2477 - val_dense_fpn_5_loss: 0.2353 - val_dense_resnet_accuracy: 0.9202 - val_dense_fpn_2_accuracy: 0.9109 - val_dense_fpn_3_accuracy: 0.9062 - val_dense_fpn_4_accuracy: 0.9152 - val_dense_fpn_5_accuracy: 0.9181\n",
      "Epoch 3/5\n",
      "348/348 [==============================] - 115s 329ms/step - loss: 11.6546 - dense_resnet_loss: 0.2191 - dense_fpn_2_loss: 0.2761 - dense_fpn_3_loss: 0.2573 - dense_fpn_4_loss: 0.2387 - dense_fpn_5_loss: 0.2268 - dense_resnet_accuracy: 0.9231 - dense_fpn_2_accuracy: 0.9087 - dense_fpn_3_accuracy: 0.9131 - dense_fpn_4_accuracy: 0.9196 - dense_fpn_5_accuracy: 0.9211 - val_loss: 11.7087 - val_dense_resnet_loss: 0.2277 - val_dense_fpn_2_loss: 0.2814 - val_dense_fpn_3_loss: 0.2653 - val_dense_fpn_4_loss: 0.2625 - val_dense_fpn_5_loss: 0.2352 - val_dense_resnet_accuracy: 0.9192 - val_dense_fpn_2_accuracy: 0.9073 - val_dense_fpn_3_accuracy: 0.9120 - val_dense_fpn_4_accuracy: 0.9120 - val_dense_fpn_5_accuracy: 0.9177\n",
      "Epoch 4/5\n",
      "348/348 [==============================] - 119s 341ms/step - loss: 11.4309 - dense_resnet_loss: 0.1788 - dense_fpn_2_loss: 0.2218 - dense_fpn_3_loss: 0.2101 - dense_fpn_4_loss: 0.1958 - dense_fpn_5_loss: 0.1877 - dense_resnet_accuracy: 0.9358 - dense_fpn_2_accuracy: 0.9214 - dense_fpn_3_accuracy: 0.9252 - dense_fpn_4_accuracy: 0.9305 - dense_fpn_5_accuracy: 0.9347 - val_loss: 11.7772 - val_dense_resnet_loss: 0.2348 - val_dense_fpn_2_loss: 0.2863 - val_dense_fpn_3_loss: 0.2812 - val_dense_fpn_4_loss: 0.2729 - val_dense_fpn_5_loss: 0.2653 - val_dense_resnet_accuracy: 0.9188 - val_dense_fpn_2_accuracy: 0.9044 - val_dense_fpn_3_accuracy: 0.9062 - val_dense_fpn_4_accuracy: 0.9087 - val_dense_fpn_5_accuracy: 0.9102\n",
      "Epoch 5/5\n",
      "348/348 [==============================] - 125s 359ms/step - loss: 11.2855 - dense_resnet_loss: 0.1521 - dense_fpn_2_loss: 0.1890 - dense_fpn_3_loss: 0.1801 - dense_fpn_4_loss: 0.1668 - dense_fpn_5_loss: 0.1609 - dense_resnet_accuracy: 0.9441 - dense_fpn_2_accuracy: 0.9354 - dense_fpn_3_accuracy: 0.9378 - dense_fpn_4_accuracy: 0.9426 - dense_fpn_5_accuracy: 0.9417 - val_loss: 11.5226 - val_dense_resnet_loss: 0.2082 - val_dense_fpn_2_loss: 0.2364 - val_dense_fpn_3_loss: 0.2273 - val_dense_fpn_4_loss: 0.2093 - val_dense_fpn_5_loss: 0.2047 - val_dense_resnet_accuracy: 0.9263 - val_dense_fpn_2_accuracy: 0.9224 - val_dense_fpn_3_accuracy: 0.9249 - val_dense_fpn_4_accuracy: 0.9281 - val_dense_fpn_5_accuracy: 0.9263\n"
     ]
    }
   ],
   "source": [
    "ResFPN_ce = resnet_fpn.ResFPN_Classifier(\n",
    "    image_shape=image_shape, \n",
    "    num_classes=len(classes), \n",
    "    num_filters=256, \n",
    "    architecture='resnet50', \n",
    "    augmentation=False,\n",
    "    checkpoint_path=None,\n",
    "    resnet_weights_path=filepath)\n",
    "\n",
    "ResFPN_ce.train(\n",
    "    train_dataset=train_ds, \n",
    "    val_dataset=val_ds, \n",
    "    params={'lr':0.01, 'l2':0.1, 'epochs':5},\n",
    "    loss_type='ce',\n",
    "    save_weights=False)"
   ]
  },
  {
   "cell_type": "code",
   "execution_count": 27,
   "metadata": {},
   "outputs": [
    {
     "name": "stdout",
     "output_type": "stream",
     "text": [
      "87/87 [==============================] - 10s 113ms/step - loss: 11.5226 - dense_resnet_loss: 0.2082 - dense_fpn_2_loss: 0.2364 - dense_fpn_3_loss: 0.2273 - dense_fpn_4_loss: 0.2093 - dense_fpn_5_loss: 0.2047 - dense_resnet_accuracy: 0.9263 - dense_fpn_2_accuracy: 0.9224 - dense_fpn_3_accuracy: 0.9249 - dense_fpn_4_accuracy: 0.9281 - dense_fpn_5_accuracy: 0.9263\n",
      "\n",
      "Top classifiers: ['res_fpn_5', 'resnet', 'res_fpn_4']\n",
      "WARNING:tensorflow:AutoGraph could not transform <function Model.make_predict_function.<locals>.predict_function at 0x000001E0DDB6F048> and will run it as-is.\n",
      "Please report this to the TensorFlow team. When filing the bug, set the verbosity to 10 (on Linux, `export AUTOGRAPH_VERBOSITY=10`) and attach the full output.\n",
      "Cause: 'arguments' object has no attribute 'posonlyargs'\n",
      "To silence this warning, decorate the function with @tf.autograph.experimental.do_not_convert\n",
      "WARNING: AutoGraph could not transform <function Model.make_predict_function.<locals>.predict_function at 0x000001E0DDB6F048> and will run it as-is.\n",
      "Please report this to the TensorFlow team. When filing the bug, set the verbosity to 10 (on Linux, `export AUTOGRAPH_VERBOSITY=10`) and attach the full output.\n",
      "Cause: 'arguments' object has no attribute 'posonlyargs'\n",
      "To silence this warning, decorate the function with @tf.autograph.experimental.do_not_convert\n",
      "\n",
      "Validation accuracy: 0.9263417686318132\n"
     ]
    }
   ],
   "source": [
    "top_idxes, ensemble_acc = ResFPN_ce.select_top(val_ds, top=3)"
   ]
  },
  {
   "cell_type": "code",
   "execution_count": 28,
   "metadata": {},
   "outputs": [
    {
     "name": "stdout",
     "output_type": "stream",
     "text": [
      "\n",
      "Test accuracy: 0.92\n",
      "\n",
      "COVID-19:\n",
      "  precision 0.65, recall 0.24, F1-score 0.35\n",
      "normal:\n",
      "  precision 0.93, recall 0.92, F1-score 0.92\n",
      "pneumonia:\n",
      "  precision 0.88, recall 0.91, F1-score 0.89\n",
      "\n",
      "Average:\n",
      "  precision 0.82, recall 0.69, F1-score 0.72\n"
     ]
    }
   ],
   "source": [
    "ensemble_class_ids, metrics, f1_score = ResFPN_ce.predict(\n",
    "    test_ds, classes, display_metrics=True, top_idxes=top_idxes)"
   ]
  },
  {
   "cell_type": "code",
   "execution_count": 34,
   "metadata": {},
   "outputs": [
    {
     "name": "stdout",
     "output_type": "stream",
     "text": [
      "ce: mean 0.72, std 0.02\n"
     ]
    }
   ],
   "source": [
    "import numpy as np\n",
    "f1s_ce = np.array([0.70,0.72,0.73,0.72,0.75])\n",
    "print('ce: mean %.2f, std %.2f' %(np.mean(f1s_ce), np.std(f1s_ce)))"
   ]
  },
  {
   "cell_type": "markdown",
   "metadata": {},
   "source": [
    "#### Focal Loss"
   ]
  },
  {
   "cell_type": "code",
   "execution_count": 8,
   "metadata": {},
   "outputs": [
    {
     "name": "stdout",
     "output_type": "stream",
     "text": [
      "alpha [0.8688815552887377, 0.05334376403467579, 0.07777468067658662]\n",
      "\n",
      "\n",
      "gamma: 0\n",
      "Epoch 1/5\n",
      "WARNING:tensorflow:AutoGraph could not transform <function Model.make_train_function.<locals>.train_function at 0x000001A111E15288> and will run it as-is.\n",
      "Please report this to the TensorFlow team. When filing the bug, set the verbosity to 10 (on Linux, `export AUTOGRAPH_VERBOSITY=10`) and attach the full output.\n",
      "Cause: 'arguments' object has no attribute 'posonlyargs'\n",
      "To silence this warning, decorate the function with @tf.autograph.experimental.do_not_convert\n",
      "WARNING: AutoGraph could not transform <function Model.make_train_function.<locals>.train_function at 0x000001A111E15288> and will run it as-is.\n",
      "Please report this to the TensorFlow team. When filing the bug, set the verbosity to 10 (on Linux, `export AUTOGRAPH_VERBOSITY=10`) and attach the full output.\n",
      "Cause: 'arguments' object has no attribute 'posonlyargs'\n",
      "To silence this warning, decorate the function with @tf.autograph.experimental.do_not_convert\n",
      "WARNING:tensorflow:AutoGraph could not transform <bound method FocalLoss.call of <focal_loss.FocalLoss object at 0x000001A111D15BC8>> and will run it as-is.\n",
      "Please report this to the TensorFlow team. When filing the bug, set the verbosity to 10 (on Linux, `export AUTOGRAPH_VERBOSITY=10`) and attach the full output.\n",
      "Cause: 'arguments' object has no attribute 'posonlyargs'\n",
      "To silence this warning, decorate the function with @tf.autograph.experimental.do_not_convert\n",
      "WARNING: AutoGraph could not transform <bound method FocalLoss.call of <focal_loss.FocalLoss object at 0x000001A111D15BC8>> and will run it as-is.\n",
      "Please report this to the TensorFlow team. When filing the bug, set the verbosity to 10 (on Linux, `export AUTOGRAPH_VERBOSITY=10`) and attach the full output.\n",
      "Cause: 'arguments' object has no attribute 'posonlyargs'\n",
      "To silence this warning, decorate the function with @tf.autograph.experimental.do_not_convert\n",
      "  2/348 [..............................] - ETA: 54s - loss: 10.9947 - dense_resnet_loss: 0.1025 - dense_fpn_2_loss: 0.1391 - dense_fpn_3_loss: 0.1094 - dense_fpn_4_loss: 0.1266 - dense_fpn_5_loss: 0.0805 - dense_resnet_accuracy: 0.4531 - dense_fpn_2_accuracy: 0.4375 - dense_fpn_3_accuracy: 0.5312 - dense_fpn_4_accuracy: 0.3125 - dense_fpn_5_accuracy: 0.5312WARNING:tensorflow:Callbacks method `on_train_batch_end` is slow compared to the batch time (batch time: 0.1240s vs `on_train_batch_end` time: 0.1867s). Check your callbacks.\n",
      "348/348 [==============================] - ETA: 0s - loss: nan - dense_resnet_loss: 0.0984 - dense_fpn_2_loss: nan - dense_fpn_3_loss: nan - dense_fpn_4_loss: nan - dense_fpn_5_loss: nan - dense_resnet_accuracy: 0.1417 - dense_fpn_2_accuracy: 0.0815 - dense_fpn_3_accuracy: 0.0841 - dense_fpn_4_accuracy: 0.0830 - dense_fpn_5_accuracy: 0.0903WARNING:tensorflow:AutoGraph could not transform <function Model.make_test_function.<locals>.test_function at 0x000001A147FDBCA8> and will run it as-is.\n",
      "Please report this to the TensorFlow team. When filing the bug, set the verbosity to 10 (on Linux, `export AUTOGRAPH_VERBOSITY=10`) and attach the full output.\n",
      "Cause: 'arguments' object has no attribute 'posonlyargs'\n",
      "To silence this warning, decorate the function with @tf.autograph.experimental.do_not_convert\n",
      "WARNING: AutoGraph could not transform <function Model.make_test_function.<locals>.test_function at 0x000001A147FDBCA8> and will run it as-is.\n",
      "Please report this to the TensorFlow team. When filing the bug, set the verbosity to 10 (on Linux, `export AUTOGRAPH_VERBOSITY=10`) and attach the full output.\n",
      "Cause: 'arguments' object has no attribute 'posonlyargs'\n",
      "To silence this warning, decorate the function with @tf.autograph.experimental.do_not_convert\n",
      "348/348 [==============================] - 141s 404ms/step - loss: nan - dense_resnet_loss: 0.0984 - dense_fpn_2_loss: nan - dense_fpn_3_loss: nan - dense_fpn_4_loss: nan - dense_fpn_5_loss: nan - dense_resnet_accuracy: 0.1417 - dense_fpn_2_accuracy: 0.0815 - dense_fpn_3_accuracy: 0.0841 - dense_fpn_4_accuracy: 0.0830 - dense_fpn_5_accuracy: 0.0903 - val_loss: nan - val_dense_resnet_loss: 0.1010 - val_dense_fpn_2_loss: nan - val_dense_fpn_3_loss: nan - val_dense_fpn_4_loss: nan - val_dense_fpn_5_loss: nan - val_dense_resnet_accuracy: 0.5742 - val_dense_fpn_2_accuracy: 0.0356 - val_dense_fpn_3_accuracy: 0.0356 - val_dense_fpn_4_accuracy: 0.0356 - val_dense_fpn_5_accuracy: 0.0356\n",
      "Epoch 2/5\n",
      "348/348 [==============================] - 118s 339ms/step - loss: nan - dense_resnet_loss: 0.1006 - dense_fpn_2_loss: nan - dense_fpn_3_loss: nan - dense_fpn_4_loss: nan - dense_fpn_5_loss: nan - dense_resnet_accuracy: 0.5384 - dense_fpn_2_accuracy: 0.0350 - dense_fpn_3_accuracy: 0.0350 - dense_fpn_4_accuracy: 0.0350 - dense_fpn_5_accuracy: 0.0350 - val_loss: nan - val_dense_resnet_loss: 0.1009 - val_dense_fpn_2_loss: nan - val_dense_fpn_3_loss: nan - val_dense_fpn_4_loss: nan - val_dense_fpn_5_loss: nan - val_dense_resnet_accuracy: 0.0356 - val_dense_fpn_2_accuracy: 0.0356 - val_dense_fpn_3_accuracy: 0.0356 - val_dense_fpn_4_accuracy: 0.0356 - val_dense_fpn_5_accuracy: 0.0356\n",
      "Epoch 3/5\n",
      "348/348 [==============================] - 118s 340ms/step - loss: nan - dense_resnet_loss: 0.1006 - dense_fpn_2_loss: nan - dense_fpn_3_loss: nan - dense_fpn_4_loss: nan - dense_fpn_5_loss: nan - dense_resnet_accuracy: 0.0902 - dense_fpn_2_accuracy: 0.0350 - dense_fpn_3_accuracy: 0.0350 - dense_fpn_4_accuracy: 0.0350 - dense_fpn_5_accuracy: 0.0350 - val_loss: nan - val_dense_resnet_loss: 0.1010 - val_dense_fpn_2_loss: nan - val_dense_fpn_3_loss: nan - val_dense_fpn_4_loss: nan - val_dense_fpn_5_loss: nan - val_dense_resnet_accuracy: 0.3902 - val_dense_fpn_2_accuracy: 0.0356 - val_dense_fpn_3_accuracy: 0.0356 - val_dense_fpn_4_accuracy: 0.0356 - val_dense_fpn_5_accuracy: 0.0356\n",
      "Epoch 4/5\n",
      "348/348 [==============================] - 118s 340ms/step - loss: nan - dense_resnet_loss: 0.1006 - dense_fpn_2_loss: nan - dense_fpn_3_loss: nan - dense_fpn_4_loss: nan - dense_fpn_5_loss: nan - dense_resnet_accuracy: 0.4378 - dense_fpn_2_accuracy: 0.0350 - dense_fpn_3_accuracy: 0.0350 - dense_fpn_4_accuracy: 0.0350 - dense_fpn_5_accuracy: 0.0350 - val_loss: nan - val_dense_resnet_loss: 0.1010 - val_dense_fpn_2_loss: nan - val_dense_fpn_3_loss: nan - val_dense_fpn_4_loss: nan - val_dense_fpn_5_loss: nan - val_dense_resnet_accuracy: 0.3902 - val_dense_fpn_2_accuracy: 0.0356 - val_dense_fpn_3_accuracy: 0.0356 - val_dense_fpn_4_accuracy: 0.0356 - val_dense_fpn_5_accuracy: 0.0356\n",
      "Epoch 5/5\n",
      "348/348 [==============================] - 119s 342ms/step - loss: nan - dense_resnet_loss: 0.1006 - dense_fpn_2_loss: nan - dense_fpn_3_loss: nan - dense_fpn_4_loss: nan - dense_fpn_5_loss: nan - dense_resnet_accuracy: 0.3442 - dense_fpn_2_accuracy: 0.0350 - dense_fpn_3_accuracy: 0.0350 - dense_fpn_4_accuracy: 0.0350 - dense_fpn_5_accuracy: 0.0350 - val_loss: nan - val_dense_resnet_loss: 0.1010 - val_dense_fpn_2_loss: nan - val_dense_fpn_3_loss: nan - val_dense_fpn_4_loss: nan - val_dense_fpn_5_loss: nan - val_dense_resnet_accuracy: 0.3902 - val_dense_fpn_2_accuracy: 0.0356 - val_dense_fpn_3_accuracy: 0.0356 - val_dense_fpn_4_accuracy: 0.0356 - val_dense_fpn_5_accuracy: 0.0356\n",
      "87/87 [==============================] - 9s 104ms/step - loss: nan - dense_resnet_loss: 0.1010 - dense_fpn_2_loss: nan - dense_fpn_3_loss: nan - dense_fpn_4_loss: nan - dense_fpn_5_loss: nan - dense_resnet_accuracy: 0.3902 - dense_fpn_2_accuracy: 0.0356 - dense_fpn_3_accuracy: 0.0356 - dense_fpn_4_accuracy: 0.0356 - dense_fpn_5_accuracy: 0.0356\n",
      "\n",
      "Top classifiers: ['resnet', 'res_fpn_2', 'res_fpn_3']\n",
      "WARNING:tensorflow:AutoGraph could not transform <function Model.make_predict_function.<locals>.predict_function at 0x000001A111E153A8> and will run it as-is.\n",
      "Please report this to the TensorFlow team. When filing the bug, set the verbosity to 10 (on Linux, `export AUTOGRAPH_VERBOSITY=10`) and attach the full output.\n",
      "Cause: 'arguments' object has no attribute 'posonlyargs'\n",
      "To silence this warning, decorate the function with @tf.autograph.experimental.do_not_convert\n",
      "WARNING: AutoGraph could not transform <function Model.make_predict_function.<locals>.predict_function at 0x000001A111E153A8> and will run it as-is.\n",
      "Please report this to the TensorFlow team. When filing the bug, set the verbosity to 10 (on Linux, `export AUTOGRAPH_VERBOSITY=10`) and attach the full output.\n",
      "Cause: 'arguments' object has no attribute 'posonlyargs'\n",
      "To silence this warning, decorate the function with @tf.autograph.experimental.do_not_convert\n"
     ]
    },
    {
     "name": "stdout",
     "output_type": "stream",
     "text": [
      "\n",
      "Validation accuracy: 0.03556034482758621\n",
      "\n",
      "Test accuracy: 0.39\n",
      "\n",
      "COVID-19:\n",
      "  precision 0.00, recall 0.00, F1-score 0.00\n",
      "normal:\n",
      "  precision 0.00, recall 0.00, F1-score 0.00\n",
      "pneumonia:\n",
      "  precision 0.39, recall 1.00, F1-score 0.56\n",
      "\n",
      "Average:\n",
      "  precision 0.13, recall 0.33, F1-score 0.19\n",
      "\n",
      "\n",
      "gamma: 1\n",
      "Epoch 1/5\n",
      "WARNING:tensorflow:AutoGraph could not transform <function Model.make_train_function.<locals>.train_function at 0x000001A11281D8B8> and will run it as-is.\n",
      "Please report this to the TensorFlow team. When filing the bug, set the verbosity to 10 (on Linux, `export AUTOGRAPH_VERBOSITY=10`) and attach the full output.\n",
      "Cause: 'arguments' object has no attribute 'posonlyargs'\n",
      "To silence this warning, decorate the function with @tf.autograph.experimental.do_not_convert\n",
      "WARNING: AutoGraph could not transform <function Model.make_train_function.<locals>.train_function at 0x000001A11281D8B8> and will run it as-is.\n",
      "Please report this to the TensorFlow team. When filing the bug, set the verbosity to 10 (on Linux, `export AUTOGRAPH_VERBOSITY=10`) and attach the full output.\n",
      "Cause: 'arguments' object has no attribute 'posonlyargs'\n",
      "To silence this warning, decorate the function with @tf.autograph.experimental.do_not_convert\n",
      "  2/348 [..............................] - ETA: 1:30 - loss: 11.1925 - dense_resnet_loss: 0.0898 - dense_fpn_2_loss: 0.2319 - dense_fpn_3_loss: 0.2122 - dense_fpn_4_loss: 0.1035 - dense_fpn_5_loss: 0.1184 - dense_resnet_accuracy: 0.1562 - dense_fpn_2_accuracy: 0.2812 - dense_fpn_3_accuracy: 0.2969 - dense_fpn_4_accuracy: 0.3594 - dense_fpn_5_accuracy: 0.4219WARNING:tensorflow:Callbacks method `on_train_batch_end` is slow compared to the batch time (batch time: 0.1250s vs `on_train_batch_end` time: 0.1910s). Check your callbacks.\n",
      "348/348 [==============================] - ETA: 0s - loss: 10.6450 - dense_resnet_loss: 0.0276 - dense_fpn_2_loss: 0.0593 - dense_fpn_3_loss: 0.0489 - dense_fpn_4_loss: 0.0399 - dense_fpn_5_loss: 0.0325 - dense_resnet_accuracy: 0.8104 - dense_fpn_2_accuracy: 0.7630 - dense_fpn_3_accuracy: 0.7722 - dense_fpn_4_accuracy: 0.7878 - dense_fpn_5_accuracy: 0.8052WARNING:tensorflow:AutoGraph could not transform <function Model.make_test_function.<locals>.test_function at 0x000001A112888708> and will run it as-is.\n",
      "Please report this to the TensorFlow team. When filing the bug, set the verbosity to 10 (on Linux, `export AUTOGRAPH_VERBOSITY=10`) and attach the full output.\n",
      "Cause: 'arguments' object has no attribute 'posonlyargs'\n",
      "To silence this warning, decorate the function with @tf.autograph.experimental.do_not_convert\n",
      "WARNING: AutoGraph could not transform <function Model.make_test_function.<locals>.test_function at 0x000001A112888708> and will run it as-is.\n",
      "Please report this to the TensorFlow team. When filing the bug, set the verbosity to 10 (on Linux, `export AUTOGRAPH_VERBOSITY=10`) and attach the full output.\n",
      "Cause: 'arguments' object has no attribute 'posonlyargs'\n",
      "To silence this warning, decorate the function with @tf.autograph.experimental.do_not_convert\n",
      "348/348 [==============================] - 121s 349ms/step - loss: 10.6450 - dense_resnet_loss: 0.0276 - dense_fpn_2_loss: 0.0593 - dense_fpn_3_loss: 0.0489 - dense_fpn_4_loss: 0.0399 - dense_fpn_5_loss: 0.0325 - dense_resnet_accuracy: 0.8104 - dense_fpn_2_accuracy: 0.7630 - dense_fpn_3_accuracy: 0.7722 - dense_fpn_4_accuracy: 0.7878 - dense_fpn_5_accuracy: 0.8052 - val_loss: 10.5261 - val_dense_resnet_loss: 0.0162 - val_dense_fpn_2_loss: 0.0176 - val_dense_fpn_3_loss: 0.0190 - val_dense_fpn_4_loss: 0.0187 - val_dense_fpn_5_loss: 0.0178 - val_dense_resnet_accuracy: 0.8944 - val_dense_fpn_2_accuracy: 0.8768 - val_dense_fpn_3_accuracy: 0.8563 - val_dense_fpn_4_accuracy: 0.8566 - val_dense_fpn_5_accuracy: 0.8703\n",
      "Epoch 2/5\n",
      "348/348 [==============================] - 120s 346ms/step - loss: 10.5091 - dense_resnet_loss: 0.0126 - dense_fpn_2_loss: 0.0156 - dense_fpn_3_loss: 0.0157 - dense_fpn_4_loss: 0.0146 - dense_fpn_5_loss: 0.0137 - dense_resnet_accuracy: 0.9049 - dense_fpn_2_accuracy: 0.8899 - dense_fpn_3_accuracy: 0.8900 - dense_fpn_4_accuracy: 0.8952 - dense_fpn_5_accuracy: 0.9018 - val_loss: 10.5466 - val_dense_resnet_loss: 0.0158 - val_dense_fpn_2_loss: 0.0240 - val_dense_fpn_3_loss: 0.0266 - val_dense_fpn_4_loss: 0.0235 - val_dense_fpn_5_loss: 0.0200 - val_dense_resnet_accuracy: 0.9030 - val_dense_fpn_2_accuracy: 0.9084 - val_dense_fpn_3_accuracy: 0.9055 - val_dense_fpn_4_accuracy: 0.9073 - val_dense_fpn_5_accuracy: 0.9048\n",
      "Epoch 3/5\n",
      "348/348 [==============================] - 121s 347ms/step - loss: 10.4875 - dense_resnet_loss: 0.0089 - dense_fpn_2_loss: 0.0110 - dense_fpn_3_loss: 0.0112 - dense_fpn_4_loss: 0.0103 - dense_fpn_5_loss: 0.0096 - dense_resnet_accuracy: 0.9255 - dense_fpn_2_accuracy: 0.9144 - dense_fpn_3_accuracy: 0.9121 - dense_fpn_4_accuracy: 0.9158 - dense_fpn_5_accuracy: 0.9212 - val_loss: 10.5068 - val_dense_resnet_loss: 0.0134 - val_dense_fpn_2_loss: 0.0139 - val_dense_fpn_3_loss: 0.0140 - val_dense_fpn_4_loss: 0.0144 - val_dense_fpn_5_loss: 0.0144 - val_dense_resnet_accuracy: 0.9120 - val_dense_fpn_2_accuracy: 0.9148 - val_dense_fpn_3_accuracy: 0.9145 - val_dense_fpn_4_accuracy: 0.9152 - val_dense_fpn_5_accuracy: 0.9077\n",
      "Epoch 4/5\n",
      "348/348 [==============================] - 120s 345ms/step - loss: 10.4662 - dense_resnet_loss: 0.0054 - dense_fpn_2_loss: 0.0063 - dense_fpn_3_loss: 0.0063 - dense_fpn_4_loss: 0.0059 - dense_fpn_5_loss: 0.0055 - dense_resnet_accuracy: 0.9478 - dense_fpn_2_accuracy: 0.9400 - dense_fpn_3_accuracy: 0.9396 - dense_fpn_4_accuracy: 0.9426 - dense_fpn_5_accuracy: 0.9469 - val_loss: 10.5169 - val_dense_resnet_loss: 0.0148 - val_dense_fpn_2_loss: 0.0162 - val_dense_fpn_3_loss: 0.0164 - val_dense_fpn_4_loss: 0.0167 - val_dense_fpn_5_loss: 0.0162 - val_dense_resnet_accuracy: 0.9195 - val_dense_fpn_2_accuracy: 0.9059 - val_dense_fpn_3_accuracy: 0.9037 - val_dense_fpn_4_accuracy: 0.9005 - val_dense_fpn_5_accuracy: 0.9145\n",
      "Epoch 5/5\n",
      "348/348 [==============================] - 120s 345ms/step - loss: 10.4552 - dense_resnet_loss: 0.0034 - dense_fpn_2_loss: 0.0041 - dense_fpn_3_loss: 0.0040 - dense_fpn_4_loss: 0.0037 - dense_fpn_5_loss: 0.0033 - dense_resnet_accuracy: 0.9666 - dense_fpn_2_accuracy: 0.9564 - dense_fpn_3_accuracy: 0.9566 - dense_fpn_4_accuracy: 0.9620 - dense_fpn_5_accuracy: 0.9668 - val_loss: 10.5444 - val_dense_resnet_loss: 0.0187 - val_dense_fpn_2_loss: 0.0218 - val_dense_fpn_3_loss: 0.0224 - val_dense_fpn_4_loss: 0.0224 - val_dense_fpn_5_loss: 0.0223 - val_dense_resnet_accuracy: 0.9235 - val_dense_fpn_2_accuracy: 0.9123 - val_dense_fpn_3_accuracy: 0.9130 - val_dense_fpn_4_accuracy: 0.9188 - val_dense_fpn_5_accuracy: 0.9253\n",
      "87/87 [==============================] - 9s 108ms/step - loss: 10.5444 - dense_resnet_loss: 0.0187 - dense_fpn_2_loss: 0.0218 - dense_fpn_3_loss: 0.0224 - dense_fpn_4_loss: 0.0224 - dense_fpn_5_loss: 0.0223 - dense_resnet_accuracy: 0.9235 - dense_fpn_2_accuracy: 0.9123 - dense_fpn_3_accuracy: 0.9130 - dense_fpn_4_accuracy: 0.9188 - dense_fpn_5_accuracy: 0.9253\n",
      "\n",
      "Top classifiers: ['resnet', 'res_fpn_2', 'res_fpn_5']\n",
      "WARNING:tensorflow:AutoGraph could not transform <function Model.make_predict_function.<locals>.predict_function at 0x000001A5FDF84C18> and will run it as-is.\n",
      "Please report this to the TensorFlow team. When filing the bug, set the verbosity to 10 (on Linux, `export AUTOGRAPH_VERBOSITY=10`) and attach the full output.\n",
      "Cause: 'arguments' object has no attribute 'posonlyargs'\n",
      "To silence this warning, decorate the function with @tf.autograph.experimental.do_not_convert\n",
      "WARNING: AutoGraph could not transform <function Model.make_predict_function.<locals>.predict_function at 0x000001A5FDF84C18> and will run it as-is.\n",
      "Please report this to the TensorFlow team. When filing the bug, set the verbosity to 10 (on Linux, `export AUTOGRAPH_VERBOSITY=10`) and attach the full output.\n",
      "Cause: 'arguments' object has no attribute 'posonlyargs'\n",
      "To silence this warning, decorate the function with @tf.autograph.experimental.do_not_convert\n",
      "\n",
      "Validation accuracy: 0.9231090100111234\n",
      "\n",
      "Test accuracy: 0.92\n",
      "\n",
      "COVID-19:\n",
      "  precision 0.63, recall 0.31, F1-score 0.39\n",
      "normal:\n",
      "  precision 0.95, recall 0.92, F1-score 0.93\n",
      "pneumonia:\n",
      "  precision 0.89, recall 0.92, F1-score 0.90\n",
      "\n",
      "Average:\n",
      "  precision 0.82, recall 0.72, F1-score 0.74\n",
      "\n",
      "\n",
      "gamma: 2\n"
     ]
    },
    {
     "name": "stdout",
     "output_type": "stream",
     "text": [
      "Epoch 1/5\n",
      "WARNING:tensorflow:AutoGraph could not transform <function Model.make_train_function.<locals>.train_function at 0x000001A565DE1168> and will run it as-is.\n",
      "Please report this to the TensorFlow team. When filing the bug, set the verbosity to 10 (on Linux, `export AUTOGRAPH_VERBOSITY=10`) and attach the full output.\n",
      "Cause: 'arguments' object has no attribute 'posonlyargs'\n",
      "To silence this warning, decorate the function with @tf.autograph.experimental.do_not_convert\n",
      "WARNING: AutoGraph could not transform <function Model.make_train_function.<locals>.train_function at 0x000001A565DE1168> and will run it as-is.\n",
      "Please report this to the TensorFlow team. When filing the bug, set the verbosity to 10 (on Linux, `export AUTOGRAPH_VERBOSITY=10`) and attach the full output.\n",
      "Cause: 'arguments' object has no attribute 'posonlyargs'\n",
      "To silence this warning, decorate the function with @tf.autograph.experimental.do_not_convert\n",
      "  2/348 [..............................] - ETA: 1:28 - loss: 11.3402 - dense_resnet_loss: 0.1315 - dense_fpn_2_loss: 0.2148 - dense_fpn_3_loss: 0.1415 - dense_fpn_4_loss: 0.3133 - dense_fpn_5_loss: 0.1026 - dense_resnet_accuracy: 0.4219 - dense_fpn_2_accuracy: 0.2188 - dense_fpn_3_accuracy: 0.2812 - dense_fpn_4_accuracy: 0.2188 - dense_fpn_5_accuracy: 0.2031WARNING:tensorflow:Callbacks method `on_train_batch_end` is slow compared to the batch time (batch time: 0.1260s vs `on_train_batch_end` time: 0.1955s). Check your callbacks.\n",
      "348/348 [==============================] - ETA: 0s - loss: 10.6192 - dense_resnet_loss: 0.0230 - dense_fpn_2_loss: 0.0511 - dense_fpn_3_loss: 0.0453 - dense_fpn_4_loss: 0.0359 - dense_fpn_5_loss: 0.0272 - dense_resnet_accuracy: 0.7765 - dense_fpn_2_accuracy: 0.7461 - dense_fpn_3_accuracy: 0.7465 - dense_fpn_4_accuracy: 0.7601 - dense_fpn_5_accuracy: 0.7802WARNING:tensorflow:AutoGraph could not transform <function Model.make_test_function.<locals>.test_function at 0x000001A112386C18> and will run it as-is.\n",
      "Please report this to the TensorFlow team. When filing the bug, set the verbosity to 10 (on Linux, `export AUTOGRAPH_VERBOSITY=10`) and attach the full output.\n",
      "Cause: 'arguments' object has no attribute 'posonlyargs'\n",
      "To silence this warning, decorate the function with @tf.autograph.experimental.do_not_convert\n",
      "WARNING: AutoGraph could not transform <function Model.make_test_function.<locals>.test_function at 0x000001A112386C18> and will run it as-is.\n",
      "Please report this to the TensorFlow team. When filing the bug, set the verbosity to 10 (on Linux, `export AUTOGRAPH_VERBOSITY=10`) and attach the full output.\n",
      "Cause: 'arguments' object has no attribute 'posonlyargs'\n",
      "To silence this warning, decorate the function with @tf.autograph.experimental.do_not_convert\n",
      "348/348 [==============================] - 122s 351ms/step - loss: 10.6192 - dense_resnet_loss: 0.0230 - dense_fpn_2_loss: 0.0511 - dense_fpn_3_loss: 0.0453 - dense_fpn_4_loss: 0.0359 - dense_fpn_5_loss: 0.0272 - dense_resnet_accuracy: 0.7765 - dense_fpn_2_accuracy: 0.7461 - dense_fpn_3_accuracy: 0.7465 - dense_fpn_4_accuracy: 0.7601 - dense_fpn_5_accuracy: 0.7802 - val_loss: 10.5104 - val_dense_resnet_loss: 0.0116 - val_dense_fpn_2_loss: 0.0186 - val_dense_fpn_3_loss: 0.0166 - val_dense_fpn_4_loss: 0.0153 - val_dense_fpn_5_loss: 0.0116 - val_dense_resnet_accuracy: 0.8678 - val_dense_fpn_2_accuracy: 0.7560 - val_dense_fpn_3_accuracy: 0.7873 - val_dense_fpn_4_accuracy: 0.7941 - val_dense_fpn_5_accuracy: 0.8538\n",
      "Epoch 2/5\n",
      "348/348 [==============================] - 121s 348ms/step - loss: 10.4853 - dense_resnet_loss: 0.0086 - dense_fpn_2_loss: 0.0105 - dense_fpn_3_loss: 0.0106 - dense_fpn_4_loss: 0.0100 - dense_fpn_5_loss: 0.0090 - dense_resnet_accuracy: 0.8933 - dense_fpn_2_accuracy: 0.8734 - dense_fpn_3_accuracy: 0.8721 - dense_fpn_4_accuracy: 0.8792 - dense_fpn_5_accuracy: 0.8898 - val_loss: 10.4958 - val_dense_resnet_loss: 0.0095 - val_dense_fpn_2_loss: 0.0120 - val_dense_fpn_3_loss: 0.0142 - val_dense_fpn_4_loss: 0.0129 - val_dense_fpn_5_loss: 0.0107 - val_dense_resnet_accuracy: 0.8868 - val_dense_fpn_2_accuracy: 0.8336 - val_dense_fpn_3_accuracy: 0.8117 - val_dense_fpn_4_accuracy: 0.8246 - val_dense_fpn_5_accuracy: 0.8699\n",
      "Epoch 3/5\n",
      "348/348 [==============================] - 121s 347ms/step - loss: 10.4645 - dense_resnet_loss: 0.0051 - dense_fpn_2_loss: 0.0059 - dense_fpn_3_loss: 0.0059 - dense_fpn_4_loss: 0.0056 - dense_fpn_5_loss: 0.0053 - dense_resnet_accuracy: 0.9209 - dense_fpn_2_accuracy: 0.9104 - dense_fpn_3_accuracy: 0.9090 - dense_fpn_4_accuracy: 0.9150 - dense_fpn_5_accuracy: 0.9192 - val_loss: 10.4899 - val_dense_resnet_loss: 0.0096 - val_dense_fpn_2_loss: 0.0108 - val_dense_fpn_3_loss: 0.0109 - val_dense_fpn_4_loss: 0.0112 - val_dense_fpn_5_loss: 0.0108 - val_dense_resnet_accuracy: 0.9209 - val_dense_fpn_2_accuracy: 0.8771 - val_dense_fpn_3_accuracy: 0.8728 - val_dense_fpn_4_accuracy: 0.8904 - val_dense_fpn_5_accuracy: 0.9102\n",
      "Epoch 4/5\n",
      "348/348 [==============================] - 120s 345ms/step - loss: 10.4534 - dense_resnet_loss: 0.0031 - dense_fpn_2_loss: 0.0036 - dense_fpn_3_loss: 0.0036 - dense_fpn_4_loss: 0.0034 - dense_fpn_5_loss: 0.0031 - dense_resnet_accuracy: 0.9446 - dense_fpn_2_accuracy: 0.9392 - dense_fpn_3_accuracy: 0.9380 - dense_fpn_4_accuracy: 0.9407 - dense_fpn_5_accuracy: 0.9455 - val_loss: 10.4966 - val_dense_resnet_loss: 0.0102 - val_dense_fpn_2_loss: 0.0123 - val_dense_fpn_3_loss: 0.0127 - val_dense_fpn_4_loss: 0.0126 - val_dense_fpn_5_loss: 0.0123 - val_dense_resnet_accuracy: 0.9274 - val_dense_fpn_2_accuracy: 0.9292 - val_dense_fpn_3_accuracy: 0.9260 - val_dense_fpn_4_accuracy: 0.9253 - val_dense_fpn_5_accuracy: 0.9242\n",
      "Epoch 5/5\n",
      "348/348 [==============================] - 120s 345ms/step - loss: 10.4448 - dense_resnet_loss: 0.0017 - dense_fpn_2_loss: 0.0017 - dense_fpn_3_loss: 0.0017 - dense_fpn_4_loss: 0.0016 - dense_fpn_5_loss: 0.0015 - dense_resnet_accuracy: 0.9663 - dense_fpn_2_accuracy: 0.9617 - dense_fpn_3_accuracy: 0.9629 - dense_fpn_4_accuracy: 0.9649 - dense_fpn_5_accuracy: 0.9691 - val_loss: 10.5099 - val_dense_resnet_loss: 0.0125 - val_dense_fpn_2_loss: 0.0143 - val_dense_fpn_3_loss: 0.0150 - val_dense_fpn_4_loss: 0.0160 - val_dense_fpn_5_loss: 0.0155 - val_dense_resnet_accuracy: 0.9324 - val_dense_fpn_2_accuracy: 0.9324 - val_dense_fpn_3_accuracy: 0.9332 - val_dense_fpn_4_accuracy: 0.9321 - val_dense_fpn_5_accuracy: 0.9267\n",
      "87/87 [==============================] - 9s 107ms/step - loss: 10.5099 - dense_resnet_loss: 0.0125 - dense_fpn_2_loss: 0.0143 - dense_fpn_3_loss: 0.0150 - dense_fpn_4_loss: 0.0160 - dense_fpn_5_loss: 0.0155 - dense_resnet_accuracy: 0.9324 - dense_fpn_2_accuracy: 0.9324 - dense_fpn_3_accuracy: 0.9332 - dense_fpn_4_accuracy: 0.9321 - dense_fpn_5_accuracy: 0.9267\n",
      "\n",
      "Top classifiers: ['resnet', 'res_fpn_2', 'res_fpn_3']\n",
      "WARNING:tensorflow:AutoGraph could not transform <function Model.make_predict_function.<locals>.predict_function at 0x000001A565C6FEE8> and will run it as-is.\n",
      "Please report this to the TensorFlow team. When filing the bug, set the verbosity to 10 (on Linux, `export AUTOGRAPH_VERBOSITY=10`) and attach the full output.\n",
      "Cause: 'arguments' object has no attribute 'posonlyargs'\n",
      "To silence this warning, decorate the function with @tf.autograph.experimental.do_not_convert\n",
      "WARNING: AutoGraph could not transform <function Model.make_predict_function.<locals>.predict_function at 0x000001A565C6FEE8> and will run it as-is.\n",
      "Please report this to the TensorFlow team. When filing the bug, set the verbosity to 10 (on Linux, `export AUTOGRAPH_VERBOSITY=10`) and attach the full output.\n",
      "Cause: 'arguments' object has no attribute 'posonlyargs'\n",
      "To silence this warning, decorate the function with @tf.autograph.experimental.do_not_convert\n",
      "\n",
      "Validation accuracy: 0.9331780682239526\n",
      "\n",
      "Test accuracy: 0.93\n",
      "\n",
      "COVID-19:\n",
      "  precision 0.65, recall 0.32, F1-score 0.40\n",
      "normal:\n",
      "  precision 0.95, recall 0.94, F1-score 0.94\n",
      "pneumonia:\n",
      "  precision 0.91, recall 0.92, F1-score 0.91\n",
      "\n",
      "Average:\n",
      "  precision 0.83, recall 0.73, F1-score 0.75\n",
      "\n",
      "\n",
      "gamma: 5\n",
      "Epoch 1/5\n",
      "WARNING:tensorflow:AutoGraph could not transform <function Model.make_train_function.<locals>.train_function at 0x000001A565CD60D8> and will run it as-is.\n",
      "Please report this to the TensorFlow team. When filing the bug, set the verbosity to 10 (on Linux, `export AUTOGRAPH_VERBOSITY=10`) and attach the full output.\n",
      "Cause: 'arguments' object has no attribute 'posonlyargs'\n",
      "To silence this warning, decorate the function with @tf.autograph.experimental.do_not_convert\n"
     ]
    },
    {
     "name": "stdout",
     "output_type": "stream",
     "text": [
      "WARNING: AutoGraph could not transform <function Model.make_train_function.<locals>.train_function at 0x000001A565CD60D8> and will run it as-is.\n",
      "Please report this to the TensorFlow team. When filing the bug, set the verbosity to 10 (on Linux, `export AUTOGRAPH_VERBOSITY=10`) and attach the full output.\n",
      "Cause: 'arguments' object has no attribute 'posonlyargs'\n",
      "To silence this warning, decorate the function with @tf.autograph.experimental.do_not_convert\n",
      "  2/348 [..............................] - ETA: 1:29 - loss: 11.3509 - dense_resnet_loss: 0.0871 - dense_fpn_2_loss: 0.5112 - dense_fpn_3_loss: 0.2192 - dense_fpn_4_loss: 0.0492 - dense_fpn_5_loss: 0.0476 - dense_resnet_accuracy: 0.3594 - dense_fpn_2_accuracy: 0.2812 - dense_fpn_3_accuracy: 0.2969 - dense_fpn_4_accuracy: 0.3594 - dense_fpn_5_accuracy: 0.1719WARNING:tensorflow:Callbacks method `on_train_batch_end` is slow compared to the batch time (batch time: 0.1270s vs `on_train_batch_end` time: 0.1910s). Check your callbacks.\n",
      "348/348 [==============================] - ETA: 0s - loss: 10.5463 - dense_resnet_loss: 0.0098 - dense_fpn_2_loss: 0.0355 - dense_fpn_3_loss: 0.0330 - dense_fpn_4_loss: 0.0194 - dense_fpn_5_loss: 0.0120 - dense_resnet_accuracy: 0.7000 - dense_fpn_2_accuracy: 0.7008 - dense_fpn_3_accuracy: 0.7050 - dense_fpn_4_accuracy: 0.7288 - dense_fpn_5_accuracy: 0.7191WARNING:tensorflow:AutoGraph could not transform <function Model.make_test_function.<locals>.test_function at 0x000001A1123C5168> and will run it as-is.\n",
      "Please report this to the TensorFlow team. When filing the bug, set the verbosity to 10 (on Linux, `export AUTOGRAPH_VERBOSITY=10`) and attach the full output.\n",
      "Cause: 'arguments' object has no attribute 'posonlyargs'\n",
      "To silence this warning, decorate the function with @tf.autograph.experimental.do_not_convert\n",
      "WARNING: AutoGraph could not transform <function Model.make_test_function.<locals>.test_function at 0x000001A1123C5168> and will run it as-is.\n",
      "Please report this to the TensorFlow team. When filing the bug, set the verbosity to 10 (on Linux, `export AUTOGRAPH_VERBOSITY=10`) and attach the full output.\n",
      "Cause: 'arguments' object has no attribute 'posonlyargs'\n",
      "To silence this warning, decorate the function with @tf.autograph.experimental.do_not_convert\n",
      "348/348 [==============================] - 121s 348ms/step - loss: 10.5463 - dense_resnet_loss: 0.0098 - dense_fpn_2_loss: 0.0355 - dense_fpn_3_loss: 0.0330 - dense_fpn_4_loss: 0.0194 - dense_fpn_5_loss: 0.0120 - dense_resnet_accuracy: 0.7000 - dense_fpn_2_accuracy: 0.7008 - dense_fpn_3_accuracy: 0.7050 - dense_fpn_4_accuracy: 0.7288 - dense_fpn_5_accuracy: 0.7191 - val_loss: 10.4616 - val_dense_resnet_loss: 0.0041 - val_dense_fpn_2_loss: 0.0062 - val_dense_fpn_3_loss: 0.0056 - val_dense_fpn_4_loss: 0.0050 - val_dense_fpn_5_loss: 0.0041 - val_dense_resnet_accuracy: 0.8246 - val_dense_fpn_2_accuracy: 0.7787 - val_dense_fpn_3_accuracy: 0.7898 - val_dense_fpn_4_accuracy: 0.8667 - val_dense_fpn_5_accuracy: 0.8800\n",
      "Epoch 2/5\n",
      "348/348 [==============================] - 121s 348ms/step - loss: 10.4509 - dense_resnet_loss: 0.0027 - dense_fpn_2_loss: 0.0033 - dense_fpn_3_loss: 0.0030 - dense_fpn_4_loss: 0.0027 - dense_fpn_5_loss: 0.0025 - dense_resnet_accuracy: 0.8730 - dense_fpn_2_accuracy: 0.8527 - dense_fpn_3_accuracy: 0.8643 - dense_fpn_4_accuracy: 0.8752 - dense_fpn_5_accuracy: 0.8806 - val_loss: 10.4524 - val_dense_resnet_loss: 0.0027 - val_dense_fpn_2_loss: 0.0038 - val_dense_fpn_3_loss: 0.0033 - val_dense_fpn_4_loss: 0.0030 - val_dense_fpn_5_loss: 0.0030 - val_dense_resnet_accuracy: 0.8969 - val_dense_fpn_2_accuracy: 0.8423 - val_dense_fpn_3_accuracy: 0.8469 - val_dense_fpn_4_accuracy: 0.8721 - val_dense_fpn_5_accuracy: 0.8832\n",
      "Epoch 3/5\n",
      "348/348 [==============================] - 120s 344ms/step - loss: 10.4438 - dense_resnet_loss: 0.0014 - dense_fpn_2_loss: 0.0016 - dense_fpn_3_loss: 0.0015 - dense_fpn_4_loss: 0.0014 - dense_fpn_5_loss: 0.0013 - dense_resnet_accuracy: 0.9024 - dense_fpn_2_accuracy: 0.8944 - dense_fpn_3_accuracy: 0.9018 - dense_fpn_4_accuracy: 0.9070 - dense_fpn_5_accuracy: 0.9076 - val_loss: 10.4530 - val_dense_resnet_loss: 0.0029 - val_dense_fpn_2_loss: 0.0034 - val_dense_fpn_3_loss: 0.0035 - val_dense_fpn_4_loss: 0.0034 - val_dense_fpn_5_loss: 0.0033 - val_dense_resnet_accuracy: 0.8847 - val_dense_fpn_2_accuracy: 0.8674 - val_dense_fpn_3_accuracy: 0.8670 - val_dense_fpn_4_accuracy: 0.8825 - val_dense_fpn_5_accuracy: 0.8897\n",
      "Epoch 4/5\n",
      "348/348 [==============================] - 120s 344ms/step - loss: 10.4408 - dense_resnet_loss: 8.7811e-04 - dense_fpn_2_loss: 8.7075e-04 - dense_fpn_3_loss: 8.4877e-04 - dense_fpn_4_loss: 7.7056e-04 - dense_fpn_5_loss: 7.3461e-04 - dense_resnet_accuracy: 0.9176 - dense_fpn_2_accuracy: 0.9140 - dense_fpn_3_accuracy: 0.9184 - dense_fpn_4_accuracy: 0.9224 - dense_fpn_5_accuracy: 0.9196 - val_loss: 10.4621 - val_dense_resnet_loss: 0.0044 - val_dense_fpn_2_loss: 0.0049 - val_dense_fpn_3_loss: 0.0049 - val_dense_fpn_4_loss: 0.0052 - val_dense_fpn_5_loss: 0.0061 - val_dense_resnet_accuracy: 0.9170 - val_dense_fpn_2_accuracy: 0.9177 - val_dense_fpn_3_accuracy: 0.9184 - val_dense_fpn_4_accuracy: 0.9148 - val_dense_fpn_5_accuracy: 0.9138\n",
      "Epoch 5/5\n",
      "348/348 [==============================] - 120s 344ms/step - loss: 10.4389 - dense_resnet_loss: 5.2080e-04 - dense_fpn_2_loss: 4.7412e-04 - dense_fpn_3_loss: 4.4698e-04 - dense_fpn_4_loss: 4.1114e-04 - dense_fpn_5_loss: 3.9899e-04 - dense_resnet_accuracy: 0.9286 - dense_fpn_2_accuracy: 0.9328 - dense_fpn_3_accuracy: 0.9352 - dense_fpn_4_accuracy: 0.9373 - dense_fpn_5_accuracy: 0.9382 - val_loss: 10.4719 - val_dense_resnet_loss: 0.0055 - val_dense_fpn_2_loss: 0.0070 - val_dense_fpn_3_loss: 0.0072 - val_dense_fpn_4_loss: 0.0076 - val_dense_fpn_5_loss: 0.0078 - val_dense_resnet_accuracy: 0.9202 - val_dense_fpn_2_accuracy: 0.9170 - val_dense_fpn_3_accuracy: 0.9184 - val_dense_fpn_4_accuracy: 0.9170 - val_dense_fpn_5_accuracy: 0.9220\n",
      "87/87 [==============================] - 9s 106ms/step - loss: 10.4719 - dense_resnet_loss: 0.0055 - dense_fpn_2_loss: 0.0070 - dense_fpn_3_loss: 0.0072 - dense_fpn_4_loss: 0.0076 - dense_fpn_5_loss: 0.0078 - dense_resnet_accuracy: 0.9202 - dense_fpn_2_accuracy: 0.9170 - dense_fpn_3_accuracy: 0.9184 - dense_fpn_4_accuracy: 0.9170 - dense_fpn_5_accuracy: 0.9220\n",
      "\n",
      "Top classifiers: ['resnet', 'res_fpn_2', 'res_fpn_3']\n",
      "WARNING:tensorflow:AutoGraph could not transform <function Model.make_predict_function.<locals>.predict_function at 0x000001A579D92B88> and will run it as-is.\n",
      "Please report this to the TensorFlow team. When filing the bug, set the verbosity to 10 (on Linux, `export AUTOGRAPH_VERBOSITY=10`) and attach the full output.\n",
      "Cause: 'arguments' object has no attribute 'posonlyargs'\n",
      "To silence this warning, decorate the function with @tf.autograph.experimental.do_not_convert\n",
      "WARNING: AutoGraph could not transform <function Model.make_predict_function.<locals>.predict_function at 0x000001A579D92B88> and will run it as-is.\n",
      "Please report this to the TensorFlow team. When filing the bug, set the verbosity to 10 (on Linux, `export AUTOGRAPH_VERBOSITY=10`) and attach the full output.\n",
      "Cause: 'arguments' object has no attribute 'posonlyargs'\n",
      "To silence this warning, decorate the function with @tf.autograph.experimental.do_not_convert\n",
      "\n",
      "Validation accuracy: 0.9180339265850946\n",
      "\n",
      "Test accuracy: 0.92\n",
      "\n",
      "COVID-19:\n",
      "  precision 0.64, recall 0.28, F1-score 0.37\n",
      "normal:\n",
      "  precision 0.94, recall 0.93, F1-score 0.93\n",
      "pneumonia:\n",
      "  precision 0.89, recall 0.90, F1-score 0.89\n",
      "\n",
      "Average:\n",
      "  precision 0.82, recall 0.70, F1-score 0.73\n",
      "\n",
      "tuning time 2690.35\n",
      "\n",
      "-----best F1 0.75 @ alpha=[0.8688815552887377, 0.05334376403467579, 0.07777468067658662], gamma=2.000000-----\n"
     ]
    }
   ],
   "source": [
    "alphas=[class_weight]\n",
    "gammas=[0,1,2,5]\n",
    "\n",
    "best_f1, best_alpha, best_gamma = covidx.tune_focal(\n",
    "    train_ds, val_ds, classes, alphas, gammas, image_shape, filepath)"
   ]
  },
  {
   "cell_type": "code",
   "execution_count": 29,
   "metadata": {
    "scrolled": true
   },
   "outputs": [
    {
     "name": "stdout",
     "output_type": "stream",
     "text": [
      "Epoch 1/5\n",
      "WARNING:tensorflow:AutoGraph could not transform <function Model.make_train_function.<locals>.train_function at 0x000001DC87B530D8> and will run it as-is.\n",
      "Please report this to the TensorFlow team. When filing the bug, set the verbosity to 10 (on Linux, `export AUTOGRAPH_VERBOSITY=10`) and attach the full output.\n",
      "Cause: 'arguments' object has no attribute 'posonlyargs'\n",
      "To silence this warning, decorate the function with @tf.autograph.experimental.do_not_convert\n",
      "WARNING: AutoGraph could not transform <function Model.make_train_function.<locals>.train_function at 0x000001DC87B530D8> and will run it as-is.\n",
      "Please report this to the TensorFlow team. When filing the bug, set the verbosity to 10 (on Linux, `export AUTOGRAPH_VERBOSITY=10`) and attach the full output.\n",
      "Cause: 'arguments' object has no attribute 'posonlyargs'\n",
      "To silence this warning, decorate the function with @tf.autograph.experimental.do_not_convert\n",
      "348/348 [==============================] - ETA: 0s - loss: 10.6246 - dense_resnet_loss: 0.0218 - dense_fpn_2_loss: 0.0564 - dense_fpn_3_loss: 0.0467 - dense_fpn_4_loss: 0.0353 - dense_fpn_5_loss: 0.0278 - dense_resnet_accuracy: 0.7773 - dense_fpn_2_accuracy: 0.7076 - dense_fpn_3_accuracy: 0.7237 - dense_fpn_4_accuracy: 0.7441 - dense_fpn_5_accuracy: 0.7592WARNING:tensorflow:AutoGraph could not transform <function Model.make_test_function.<locals>.test_function at 0x000001E1DAAD4D38> and will run it as-is.\n",
      "Please report this to the TensorFlow team. When filing the bug, set the verbosity to 10 (on Linux, `export AUTOGRAPH_VERBOSITY=10`) and attach the full output.\n",
      "Cause: 'arguments' object has no attribute 'posonlyargs'\n",
      "To silence this warning, decorate the function with @tf.autograph.experimental.do_not_convert\n",
      "WARNING: AutoGraph could not transform <function Model.make_test_function.<locals>.test_function at 0x000001E1DAAD4D38> and will run it as-is.\n",
      "Please report this to the TensorFlow team. When filing the bug, set the verbosity to 10 (on Linux, `export AUTOGRAPH_VERBOSITY=10`) and attach the full output.\n",
      "Cause: 'arguments' object has no attribute 'posonlyargs'\n",
      "To silence this warning, decorate the function with @tf.autograph.experimental.do_not_convert\n",
      "348/348 [==============================] - 127s 364ms/step - loss: 10.6246 - dense_resnet_loss: 0.0218 - dense_fpn_2_loss: 0.0564 - dense_fpn_3_loss: 0.0467 - dense_fpn_4_loss: 0.0353 - dense_fpn_5_loss: 0.0278 - dense_resnet_accuracy: 0.7773 - dense_fpn_2_accuracy: 0.7076 - dense_fpn_3_accuracy: 0.7237 - dense_fpn_4_accuracy: 0.7441 - dense_fpn_5_accuracy: 0.7592 - val_loss: 10.5333 - val_dense_resnet_loss: 0.0131 - val_dense_fpn_2_loss: 0.0253 - val_dense_fpn_3_loss: 0.0239 - val_dense_fpn_4_loss: 0.0185 - val_dense_fpn_5_loss: 0.0158 - val_dense_resnet_accuracy: 0.8361 - val_dense_fpn_2_accuracy: 0.6349 - val_dense_fpn_3_accuracy: 0.6497 - val_dense_fpn_4_accuracy: 0.7470 - val_dense_fpn_5_accuracy: 0.7884\n",
      "Epoch 2/5\n",
      "348/348 [==============================] - 125s 360ms/step - loss: 10.4917 - dense_resnet_loss: 0.0094 - dense_fpn_2_loss: 0.0121 - dense_fpn_3_loss: 0.0119 - dense_fpn_4_loss: 0.0111 - dense_fpn_5_loss: 0.0105 - dense_resnet_accuracy: 0.8890 - dense_fpn_2_accuracy: 0.8674 - dense_fpn_3_accuracy: 0.8704 - dense_fpn_4_accuracy: 0.8785 - dense_fpn_5_accuracy: 0.8838 - val_loss: 10.4874 - val_dense_resnet_loss: 0.0098 - val_dense_fpn_2_loss: 0.0100 - val_dense_fpn_3_loss: 0.0103 - val_dense_fpn_4_loss: 0.0102 - val_dense_fpn_5_loss: 0.0104 - val_dense_resnet_accuracy: 0.9066 - val_dense_fpn_2_accuracy: 0.8926 - val_dense_fpn_3_accuracy: 0.8904 - val_dense_fpn_4_accuracy: 0.8962 - val_dense_fpn_5_accuracy: 0.8980\n",
      "Epoch 3/5\n",
      "348/348 [==============================] - 124s 357ms/step - loss: 10.4655 - dense_resnet_loss: 0.0051 - dense_fpn_2_loss: 0.0063 - dense_fpn_3_loss: 0.0062 - dense_fpn_4_loss: 0.0058 - dense_fpn_5_loss: 0.0054 - dense_resnet_accuracy: 0.9241 - dense_fpn_2_accuracy: 0.9131 - dense_fpn_3_accuracy: 0.9134 - dense_fpn_4_accuracy: 0.9167 - dense_fpn_5_accuracy: 0.9228 - val_loss: 10.4947 - val_dense_resnet_loss: 0.0112 - val_dense_fpn_2_loss: 0.0115 - val_dense_fpn_3_loss: 0.0117 - val_dense_fpn_4_loss: 0.0114 - val_dense_fpn_5_loss: 0.0121 - val_dense_resnet_accuracy: 0.9192 - val_dense_fpn_2_accuracy: 0.9213 - val_dense_fpn_3_accuracy: 0.9209 - val_dense_fpn_4_accuracy: 0.9209 - val_dense_fpn_5_accuracy: 0.9192\n",
      "Epoch 4/5\n",
      "348/348 [==============================] - 117s 337ms/step - loss: 10.4499 - dense_resnet_loss: 0.0026 - dense_fpn_2_loss: 0.0027 - dense_fpn_3_loss: 0.0027 - dense_fpn_4_loss: 0.0026 - dense_fpn_5_loss: 0.0025 - dense_resnet_accuracy: 0.9511 - dense_fpn_2_accuracy: 0.9446 - dense_fpn_3_accuracy: 0.9450 - dense_fpn_4_accuracy: 0.9463 - dense_fpn_5_accuracy: 0.9508 - val_loss: 10.4938 - val_dense_resnet_loss: 0.0107 - val_dense_fpn_2_loss: 0.0113 - val_dense_fpn_3_loss: 0.0117 - val_dense_fpn_4_loss: 0.0117 - val_dense_fpn_5_loss: 0.0116 - val_dense_resnet_accuracy: 0.9267 - val_dense_fpn_2_accuracy: 0.9227 - val_dense_fpn_3_accuracy: 0.9235 - val_dense_fpn_4_accuracy: 0.9235 - val_dense_fpn_5_accuracy: 0.9235\n",
      "Epoch 5/5\n",
      "348/348 [==============================] - 125s 360ms/step - loss: 10.4432 - dense_resnet_loss: 0.0012 - dense_fpn_2_loss: 0.0015 - dense_fpn_3_loss: 0.0015 - dense_fpn_4_loss: 0.0013 - dense_fpn_5_loss: 0.0010 - dense_resnet_accuracy: 0.9750 - dense_fpn_2_accuracy: 0.9701 - dense_fpn_3_accuracy: 0.9697 - dense_fpn_4_accuracy: 0.9730 - dense_fpn_5_accuracy: 0.9786 - val_loss: 10.5131 - val_dense_resnet_loss: 0.0148 - val_dense_fpn_2_loss: 0.0149 - val_dense_fpn_3_loss: 0.0152 - val_dense_fpn_4_loss: 0.0158 - val_dense_fpn_5_loss: 0.0157 - val_dense_resnet_accuracy: 0.9202 - val_dense_fpn_2_accuracy: 0.9249 - val_dense_fpn_3_accuracy: 0.9256 - val_dense_fpn_4_accuracy: 0.9253 - val_dense_fpn_5_accuracy: 0.9181\n"
     ]
    }
   ],
   "source": [
    "ResFPN_focal = resnet_fpn.ResFPN_Classifier(\n",
    "    image_shape=image_shape, \n",
    "    num_classes=len(classes), \n",
    "    num_filters=256, \n",
    "    architecture='resnet50', \n",
    "    augmentation=False,\n",
    "    checkpoint_path=None,\n",
    "    resnet_weights_path=filepath)\n",
    "\n",
    "ResFPN_focal.train(\n",
    "    train_dataset=train_ds, \n",
    "    val_dataset=val_ds, \n",
    "    params={'lr':0.01, 'l2':0.1, 'epochs':5, \n",
    "            'alpha':class_weight, 'gamma':2.0},\n",
    "            #'alpha':best_alpha, 'gamma':best_gamma},\n",
    "    loss_type='focal',\n",
    "    save_weights=False)"
   ]
  },
  {
   "cell_type": "code",
   "execution_count": 30,
   "metadata": {},
   "outputs": [
    {
     "name": "stdout",
     "output_type": "stream",
     "text": [
      "87/87 [==============================] - 10s 113ms/step - loss: 10.5131 - dense_resnet_loss: 0.0148 - dense_fpn_2_loss: 0.0149 - dense_fpn_3_loss: 0.0152 - dense_fpn_4_loss: 0.0158 - dense_fpn_5_loss: 0.0157 - dense_resnet_accuracy: 0.9202 - dense_fpn_2_accuracy: 0.9249 - dense_fpn_3_accuracy: 0.9256 - dense_fpn_4_accuracy: 0.9253 - dense_fpn_5_accuracy: 0.9181\n",
      "\n",
      "Top classifiers: ['resnet', 'res_fpn_2', 'res_fpn_3']\n",
      "WARNING:tensorflow:AutoGraph could not transform <function Model.make_predict_function.<locals>.predict_function at 0x000001E0B56AB948> and will run it as-is.\n",
      "Please report this to the TensorFlow team. When filing the bug, set the verbosity to 10 (on Linux, `export AUTOGRAPH_VERBOSITY=10`) and attach the full output.\n",
      "Cause: 'arguments' object has no attribute 'posonlyargs'\n",
      "To silence this warning, decorate the function with @tf.autograph.experimental.do_not_convert\n",
      "WARNING: AutoGraph could not transform <function Model.make_predict_function.<locals>.predict_function at 0x000001E0B56AB948> and will run it as-is.\n",
      "Please report this to the TensorFlow team. When filing the bug, set the verbosity to 10 (on Linux, `export AUTOGRAPH_VERBOSITY=10`) and attach the full output.\n",
      "Cause: 'arguments' object has no attribute 'posonlyargs'\n",
      "To silence this warning, decorate the function with @tf.autograph.experimental.do_not_convert\n",
      "\n",
      "Validation accuracy: 0.9238389877641824\n"
     ]
    }
   ],
   "source": [
    "top_idxes, ensemble_acc = ResFPN_focal.select_top(val_ds, top=3)"
   ]
  },
  {
   "cell_type": "code",
   "execution_count": 31,
   "metadata": {},
   "outputs": [
    {
     "name": "stdout",
     "output_type": "stream",
     "text": [
      "\n",
      "Test accuracy: 0.92\n",
      "\n",
      "COVID-19:\n",
      "  precision 0.82, recall 0.39, F1-score 0.50\n",
      "normal:\n",
      "  precision 0.94, recall 0.93, F1-score 0.93\n",
      "pneumonia:\n",
      "  precision 0.89, recall 0.91, F1-score 0.90\n",
      "\n",
      "Average:\n",
      "  precision 0.88, recall 0.74, F1-score 0.78\n"
     ]
    }
   ],
   "source": [
    "ensemble_class_ids, metrics, f1_score = ResFPN_focal.predict(\n",
    "    test_ds, classes, display_metrics=True, top_idxes=top_idxes)"
   ]
  },
  {
   "cell_type": "code",
   "execution_count": 36,
   "metadata": {},
   "outputs": [
    {
     "name": "stdout",
     "output_type": "stream",
     "text": [
      "focal: mean 0.77, std 0.01\n"
     ]
    }
   ],
   "source": [
    "f1s_focal = np.array([0.77,0.78,0.77,0.76,0.78])\n",
    "print('focal: mean %.2f, std %.2f' %(np.mean(f1s_focal), np.std(f1s_focal)))"
   ]
  },
  {
   "cell_type": "code",
   "execution_count": null,
   "metadata": {},
   "outputs": [],
   "source": []
  }
 ],
 "metadata": {
  "kernelspec": {
   "display_name": "Python 3",
   "language": "python",
   "name": "python3"
  },
  "language_info": {
   "codemirror_mode": {
    "name": "ipython",
    "version": 3
   },
   "file_extension": ".py",
   "mimetype": "text/x-python",
   "name": "python",
   "nbconvert_exporter": "python",
   "pygments_lexer": "ipython3",
   "version": "3.7.9"
  }
 },
 "nbformat": 4,
 "nbformat_minor": 4
}
